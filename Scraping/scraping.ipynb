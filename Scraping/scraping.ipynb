{
 "cells": [
  {
   "cell_type": "code",
   "execution_count": 2,
   "metadata": {},
   "outputs": [],
   "source": [
    "import pandas as pd\n",
    "import numpy as np\n",
    "import requests\n",
    "from bs4 import BeautifulSoup\n",
    "from time import sleep\n",
    "from random import randint\n",
    "\n",
    "headers = {\"Accept-Language\": \"en-US, en;q=0.5\"}\n",
    "\n",
    "name = []\n",
    "year = []\n",
    "duration = []\n",
    "rating= []\n",
    "description = []\n",
    "director = []\n",
    "stars = []\n",
    "reviews = []\n",
    "\n",
    "pages = np.arange(1, 10000, 100)\n",
    "\n",
    "for page in pages: \n",
    "    page = requests.get(\"https://www.imdb.com/search/title/?title_type=feature&release_date=1990-01-01,2023-05-01&languages=en&runtime=1,10000&num_votes=1,100000000000000&sort=release_date,desc&count=100&start=\" + str(page) + \"&ref_=adv_nxt\")\n",
    "    soup = BeautifulSoup(page.text, \"html.parser\")\n",
    "    movie_data = soup.findAll('div', attrs = {'class' : 'lister-item mode-advanced'})\n",
    "    sleep(randint(2, 8))\n",
    "\n",
    "    for store in movie_data:\n",
    "        title = store.h3.a.text\n",
    "\n",
    "        describe = store.find_all('p', class_ = 'text-muted')\n",
    "        description_ = describe[1].text.replace('\\n', '') if len(describe) >1 else '*****'\n",
    "        if description_ == 'Add a Plot':\n",
    "            continue\n",
    "        description.append(description_)\n",
    "\n",
    "        name.append(title)\n",
    "        \n",
    "        year_of_release = store.h3.find('span', class_ = \"lister-item-year text-muted unbold\").text.split(' ')\n",
    "        year_of_release = year_of_release[-1].replace('(', '').replace(')', '')\n",
    "        year.append(year_of_release)\n",
    "        \n",
    "        runtime = store.p.find(\"span\", class_ = 'runtime').text.replace(' min', '') if store.p.find(\"span\", class_ = 'runtime') else \"***\"\n",
    "        duration.append(runtime)\n",
    "        \n",
    "        rate = store.find('div', class_ = \"inline-block ratings-imdb-rating\").text.replace('\\n', '') if store.find('div', class_ = \"inline-block ratings-imdb-rating\") else \"****\"\n",
    "        rating.append(rate)\n",
    "        \n",
    "\n",
    "        cast = store.find(\"p\", class_ = '')\n",
    "        cast = cast.text.replace('\\n', '').split('|')\n",
    "        cast = [x.strip() for x in cast]\n",
    "        if len(cast) == 2:\n",
    "            if \"Director:\" in cast[0]:\n",
    "                cast = [cast[0].replace(\"Director:\", \"\"), cast[1].replace(\"Stars:\", \"\")]\n",
    "            elif \"Directors:\" in cast[0]:\n",
    "                cast = [cast[0].replace(\"Directors:\", \"\"), cast[1].replace(\"Stars:\", \"\")]\n",
    "        elif len(cast) == 1:\n",
    "            if \"Director:\" in cast[0]:\n",
    "                cast = [cast[0].replace(\"Director:\", \"\"), \"NA\"]\n",
    "            elif \"Directors:\" in cast[0]:\n",
    "                cast = [cast[0].replace(\"Directors:\", \"\"), \"NA\"]\n",
    "            else:\n",
    "                cast = [\"NA\", cast[0].replace(\"Stars:\", \"\")]\n",
    "        else:\n",
    "            cast = [\"NA\", \"NA\"]\n",
    "        director.append([x.strip() for x in cast[0].split(\",\")])\n",
    "        stars.append([x.strip() for x in cast[1].split(\",\")])\n",
    "\n",
    "        # Scrape Reviews by entering the movie page\n",
    "        movie_page = requests.get(\"https://www.imdb.com\" + store.h3.a['href'] + \"reviews?ref_=tt_urv\")\n",
    "        soup = BeautifulSoup(movie_page.text, \"html.parser\")\n",
    "        review_data = soup.findAll('div', attrs = {'class' : 'lister-item mode-detail imdb-user-review collapsable'})\n",
    "        sleep(randint(2, 8))\n",
    "        review_array = []\n",
    "\n",
    "        for review in review_data:\n",
    "            review_text = review.find('div', class_ = 'text show-more__control').text.replace('\\n', '') if review.find('div', class_ = 'text show-more__control') else '*****'\n",
    "            review_text = review_text.replace('*** This review may contain spoilers ***', '')\n",
    "            review_array.append(review_text)\n",
    "        reviews.append(review_array)\n",
    "          "
   ]
  },
  {
   "cell_type": "code",
   "execution_count": 3,
   "metadata": {},
   "outputs": [],
   "source": [
    "#creating a dataframe \n",
    "movie_list = pd.DataFrame({ \"Movie Name\": name, \"Year of Release\" : year, \"Watch Time\": duration, \"Movie Rating\": rating, \"Description\": description, \"Director\": director, \"Stars\": stars, \"Reviews\": reviews})"
   ]
  },
  {
   "attachments": {},
   "cell_type": "markdown",
   "metadata": {},
   "source": []
  },
  {
   "cell_type": "code",
   "execution_count": null,
   "metadata": {},
   "outputs": [],
   "source": [
    "movie_list"
   ]
  },
  {
   "cell_type": "code",
   "execution_count": 4,
   "metadata": {},
   "outputs": [],
   "source": [
    "import csv\n",
    "movie_list.to_csv(\"Movie Dataset.csv\")"
   ]
  }
 ],
 "metadata": {
  "kernelspec": {
   "display_name": "Python 3",
   "language": "python",
   "name": "python3"
  },
  "language_info": {
   "codemirror_mode": {
    "name": "ipython",
    "version": 3
   },
   "file_extension": ".py",
   "mimetype": "text/x-python",
   "name": "python",
   "nbconvert_exporter": "python",
   "pygments_lexer": "ipython3",
   "version": "3.10.6"
  },
  "orig_nbformat": 4
 },
 "nbformat": 4,
 "nbformat_minor": 2
}
