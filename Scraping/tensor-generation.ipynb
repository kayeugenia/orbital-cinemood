{
 "cells": [
  {
   "cell_type": "code",
   "execution_count": null,
   "metadata": {},
   "outputs": [],
   "source": [
    "import pandas as pd\n",
    "dataset = pd.read_csv('Overall Movie.csv')\n",
    "dataset = dataset.loc[dataset['Reviews'] != '[]']\n",
    "# reset index of dataset\n",
    "dataset = dataset.reset_index(drop=True)\n",
    "# save as csv\n",
    "dataset.to_csv('Overall Movie (removed).csv', index=False)\n",
    "# Convert all reviews to lowercase\n",
    "dataset['Reviews'] = dataset['Reviews'].apply(lambda x: x.lower())\n",
    "\n",
    "# Concat description and reviews and Stars to string\n",
    "\n",
    "dataset['Reviews'] = dataset['Reviews'].astype(str)\n",
    "dataset['Reviews'] = dataset['Description'] + dataset['Reviews']\n",
    "\n",
    "# Remove \"[\" and \"]\"\n",
    "dataset['Reviews'] = dataset['Reviews'].apply(lambda x: x.replace(\"['\",''))\n",
    "dataset['Reviews'] = dataset['Reviews'].apply(lambda x: x.replace(\"']\",''))\n",
    "\n",
    "dataset\n",
    "\n"
   ]
  },
  {
   "cell_type": "code",
   "execution_count": 7,
   "metadata": {},
   "outputs": [],
   "source": [
    "from sentence_transformers import SentenceTransformer, util\n",
    "import torch\n",
    "\n",
    "model = SentenceTransformer('all-mpnet-base-v2')\n",
    "model.max_seq_length = 200\n",
    "\n",
    "embeddings2 = model.encode(dataset['Reviews'].tolist(), convert_to_tensor=True)\n",
    "# save tensors as a file\n",
    "torch.save(embeddings2, 'Overall Movie (removed).pt')"
   ]
  }
 ],
 "metadata": {
  "kernelspec": {
   "display_name": "Python 3",
   "language": "python",
   "name": "python3"
  },
  "language_info": {
   "codemirror_mode": {
    "name": "ipython",
    "version": 3
   },
   "file_extension": ".py",
   "mimetype": "text/x-python",
   "name": "python",
   "nbconvert_exporter": "python",
   "pygments_lexer": "ipython3",
   "version": "3.10.6"
  },
  "orig_nbformat": 4
 },
 "nbformat": 4,
 "nbformat_minor": 2
}
